{
 "cells": [
  {
   "cell_type": "markdown",
   "id": "05cb957b",
   "metadata": {},
   "source": [
    "write a class calculate capable of finding square,cube and square root of a number"
   ]
  },
  {
   "cell_type": "code",
   "execution_count": 1,
   "id": "c9518788",
   "metadata": {},
   "outputs": [
    {
     "name": "stdout",
     "output_type": "stream",
     "text": [
      "The value of 9 square is 81\n",
      "The value of 9 square root is 3.0\n",
      "The value of 9 cube is 729\n"
     ]
    }
   ],
   "source": [
    "class Calculator:\n",
    "    def __init__(self, num):\n",
    "        self.number = num\n",
    "\n",
    "    def square(self):\n",
    "        print(f\"The value of {self.number} square is {self.number **2}\")\n",
    "\n",
    "    def squareRoot(self):\n",
    "        print(f\"The value of {self.number} square root is {self.number **0.5}\")\n",
    "\n",
    "    def cube(self):\n",
    "        print(f\"The value of {self.number} cube is {self.number **3}\")\n",
    "\n",
    "a = Calculator(8)\n",
    "a.square()\n",
    "a.squareRoot() \n",
    "a.cube()"
   ]
  },
  {
   "cell_type": "code",
   "execution_count": null,
   "id": "ac9b3176",
   "metadata": {},
   "outputs": [],
   "source": []
  }
 ],
 "metadata": {
  "kernelspec": {
   "display_name": "Python 3 (ipykernel)",
   "language": "python",
   "name": "python3"
  },
  "language_info": {
   "codemirror_mode": {
    "name": "ipython",
    "version": 3
   },
   "file_extension": ".py",
   "mimetype": "text/x-python",
   "name": "python",
   "nbconvert_exporter": "python",
   "pygments_lexer": "ipython3",
   "version": "3.9.7"
  }
 },
 "nbformat": 4,
 "nbformat_minor": 5
}
